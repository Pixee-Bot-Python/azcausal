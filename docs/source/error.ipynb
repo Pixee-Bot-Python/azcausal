{
 "cells": [
  {
   "cell_type": "markdown",
   "id": "401d28a6",
   "metadata": {},
   "source": [
    "## Error"
   ]
  },
  {
   "cell_type": "markdown",
   "id": "ecd6c81b-e305-4cd9-acfa-61d9b12ee252",
   "metadata": {},
   "source": [
    "Out of the books different ways of measearing the estimation error of an estimator are supported."
   ]
  },
  {
   "cell_type": "code",
   "execution_count": null,
   "id": "7d1fa6c3-ed94-4b8c-9309-64628e60be42",
   "metadata": {},
   "outputs": [],
   "source": [
    "from azcausal.core.parallelize import Joblib\n",
    "from azcausal.data import CaliforniaProp99\n",
    "from azcausal.estimators.panel.did import DID\n",
    "\n",
    "panel = CaliforniaProp99().panel()\n",
    "\n",
    "# initialize an estimator object, here difference in difference (did)\n",
    "estimator = DID()\n",
    "\n",
    "# run the estimator\n",
    "result = estimator.fit(panel)\n",
    "\n",
    "print(result.summary(percentage=False))"
   ]
  },
  {
   "cell_type": "code",
   "execution_count": null,
   "id": "81c05cad-4416-4b8e-ac60-c8e6519ad804",
   "metadata": {},
   "outputs": [],
   "source": [
    "import matplotlib.pyplot as plt\n",
    "import numpy as np\n",
    "\n",
    "def plot_error_distribution(runs):\n",
    "\n",
    "    plt.subplots(1, 1, figsize=(12,2))\n",
    "    x = np.array([result['att'].value for result in runs])\n",
    "    plt.hist(x, bins=31, color='blue')\n",
    "    plt.axvline(x.mean(), color='red')\n",
    "\n",
    "    return x.mean(), x.std()"
   ]
  },
  {
   "cell_type": "markdown",
   "id": "a0575219",
   "metadata": {},
   "source": [
    "### Bootstrap"
   ]
  },
  {
   "cell_type": "markdown",
   "id": "f0b34c09-717d-4adf-b53d-7f0dc53fff8b",
   "metadata": {},
   "source": [
    "#### Random"
   ]
  },
  {
   "cell_type": "code",
   "execution_count": null,
   "id": "a178f90e-782d-44c4-a2ad-ae1934d57bb3",
   "metadata": {},
   "outputs": [],
   "source": [
    "from azcausal.core.error import Bootstrap\n",
    "\n",
    "method = Bootstrap(n_samples=500)\n",
    "se, runs = method.run(result)\n",
    "\n",
    "# print out information about the estimate\n",
    "print(result.summary(percentage=False))\n",
    "\n",
    "plot_error_distribution(runs)"
   ]
  },
  {
   "cell_type": "markdown",
   "id": "f48415e8-1be3-4bd4-8467-8b09a2f410e8",
   "metadata": {},
   "source": [
    "#### Bayes"
   ]
  },
  {
   "cell_type": "code",
   "execution_count": null,
   "id": "bf15d834-fc17-43ab-8dd4-f92af48caffa",
   "metadata": {},
   "outputs": [],
   "source": [
    "from azcausal.core.error import Bootstrap\n",
    "\n",
    "method = Bootstrap(n_samples=500, mode='bayes', alpha=4.0)\n",
    "se, runs = method.run(result)\n",
    "\n",
    "# print out information about the estimate\n",
    "print(result.summary(percentage=False))\n",
    "\n",
    "plot_error_distribution(runs)"
   ]
  },
  {
   "cell_type": "markdown",
   "id": "3c78d751",
   "metadata": {},
   "source": [
    "### Placebo"
   ]
  },
  {
   "cell_type": "code",
   "execution_count": null,
   "id": "178819ae-c528-4d81-8d4c-0eaef7538f76",
   "metadata": {},
   "outputs": [],
   "source": [
    "from azcausal.core.error import Placebo\n",
    "\n",
    "method = Placebo(n_samples=500)\n",
    "se, runs = method.run(result)\n",
    "\n",
    "# print out information about the estimate\n",
    "print(result.summary(percentage=False))\n",
    "\n",
    "plot_error_distribution(runs)"
   ]
  },
  {
   "cell_type": "markdown",
   "id": "5952186b",
   "metadata": {},
   "source": [
    "### JackKnife"
   ]
  },
  {
   "cell_type": "code",
   "execution_count": null,
   "id": "d69bb968-8991-49e3-ad49-112933eddee6",
   "metadata": {},
   "outputs": [],
   "source": [
    "from azcausal.core.error import JackKnife\n",
    "\n",
    "method = JackKnife()\n",
    "se, runs = method.run(result)\n",
    "\n",
    "# print out information about the estimate\n",
    "print(result.summary(percentage=False))\n",
    "\n",
    "plot_error_distribution(runs)"
   ]
  }
 ],
 "metadata": {
  "kernelspec": {
   "display_name": "Python 3 (ipykernel)",
   "language": "python",
   "name": "python3"
  },
  "language_info": {
   "codemirror_mode": {
    "name": "ipython",
    "version": 3
   },
   "file_extension": ".py",
   "mimetype": "text/x-python",
   "name": "python",
   "nbconvert_exporter": "python",
   "pygments_lexer": "ipython3"
  },
  "papermill": {
   "default_parameters": {},
   "duration": 11.359422,
   "end_time": "2023-09-28T19:27:31.638604",
   "environment_variables": {},
   "exception": null,
   "input_path": "/Users/blankjul/workspace/azcausal/docs/source/error.ipynb",
   "output_path": "/Users/blankjul/workspace/azcausal/docs/source/error.ipynb",
   "parameters": {},
   "start_time": "2023-09-28T19:27:20.279182",
   "version": "2.4.0"
  }
 },
 "nbformat": 4,
 "nbformat_minor": 5
}
