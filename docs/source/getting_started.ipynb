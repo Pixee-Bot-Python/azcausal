{
 "cells": [
  {
   "cell_type": "markdown",
   "id": "c5579eee",
   "metadata": {},
   "source": [
    "## Getting Started"
   ]
  },
  {
   "cell_type": "raw",
   "id": "fc66dd1c-dc84-44b3-b19a-130f46dd21e5",
   "metadata": {},
   "source": [
    ".. Hint:: Available Soon."
   ]
  }
 ],
 "metadata": {
  "kernelspec": {
   "display_name": "Python 3 (ipykernel)",
   "language": "python",
   "name": "python3"
  },
  "language_info": {
   "codemirror_mode": {
    "name": "ipython",
    "version": 3
   },
   "file_extension": ".py",
   "mimetype": "text/x-python",
   "name": "python",
   "nbconvert_exporter": "python",
   "pygments_lexer": "ipython3"
  },
  "papermill": {
   "default_parameters": {},
   "duration": 1.36811,
   "end_time": "2023-09-28T19:27:09.898442",
   "environment_variables": {},
   "exception": null,
   "input_path": "/Users/blankjul/workspace/azcausal/docs/source/getting_started.ipynb",
   "output_path": "/Users/blankjul/workspace/azcausal/docs/source/getting_started.ipynb",
   "parameters": {},
   "start_time": "2023-09-28T19:27:08.530332",
   "version": "2.4.0"
  }
 },
 "nbformat": 4,
 "nbformat_minor": 5
}
